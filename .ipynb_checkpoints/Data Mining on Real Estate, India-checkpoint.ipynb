{
 "cells": [
  {
   "cell_type": "markdown",
   "id": "60afa148",
   "metadata": {},
   "source": [
    "symbol  #"
   ]
  },
  {
   "cell_type": "markdown",
   "id": "04da1bb6",
   "metadata": {},
   "source": [
    "Refer to kaggle for some of the info abt the values in the dataset: https://www.kaggle.com/datasets/ruchi798/housing-prices-in-metropolitan-areas-of-india"
   ]
  },
  {
   "cell_type": "markdown",
   "id": "1a60868d",
   "metadata": {},
   "source": [
    "refer to https://docs.google.com/document/d/1yYUgte33HXMTPtl4o__8KIM1815iXd0lRglfojdgSnk/edit?usp=drivesdk, and FAI machine learning flow (rmb to feature engineering by geeks for geeks)"
   ]
  },
  {
   "cell_type": "markdown",
   "id": "4d90b267-ff82-4941-89ef-06f04f0bb7dc",
   "metadata": {},
   "source": [
    "Low Sim Chuan (TP065697) <br>\n",
    "Objective: To analyze and predict the trend of house prices in different metropolitan areas.<br>\n",
    "Scopes/Deliverables:<br>\n",
    "-\tAnalyze the distribution of house prices across different metropolitan areas. <br>\n",
    "-\tPerform correlation analysis between the area of the house and its price.<br>\n",
    "-\tAssess the impact of the amenities on house prices.<br>\n",
    "-\tCompare the prices of resale properties with new properties.<br>\n",
    "-\tBuild, train, and tune the models to predict house prices based on historical and current data.<br>\n",
    "-\tBuild, train, and tune the models to predict the likelihood of resale properties and their price premiums  based on historical and current data.<br>\n"
   ]
  },
  {
   "cell_type": "markdown",
   "id": "e36c9e22",
   "metadata": {},
   "source": [
    "# Loading the dataset"
   ]
  },
  {
   "cell_type": "code",
   "execution_count": 1,
   "id": "59aafb55",
   "metadata": {},
   "outputs": [
    {
     "name": "stdout",
     "output_type": "stream",
     "text": [
      "(32963, 41)\n"
     ]
    }
   ],
   "source": [
    "import pandas as pd\n",
    "path_bangalore = \"real_estate_india\\Bangalore.csv\"\n",
    "path_chennai = \"real_estate_india\\Chennai.csv\"\n",
    "path_delhi = \"real_estate_india\\Delhi.csv\"\n",
    "path_hyderabad = \"real_estate_india\\Hyderabad.csv\"\n",
    "path_kolkata = \"real_estate_india\\Kolkata.csv\"\n",
    "path_mumbai = \"real_estate_india\\Mumbai.csv\"\n",
    "df_bangalore = pd.read_csv(path_bangalore)\n",
    "df_chennai = pd.read_csv(path_chennai)\n",
    "df_delhi = pd.read_csv(path_delhi)\n",
    "df_hyderabad = pd.read_csv(path_hyderabad)\n",
    "df_kolkata = pd.read_csv(path_kolkata)\n",
    "df_mumbai = pd.read_csv(path_mumbai)\n",
    "df_bangalore[\"metropolitan_area\"] = \"Bangalore\"\n",
    "df_chennai[\"metropolitan_area\"] = \"Chennai\"\n",
    "df_delhi[\"metropolitan_area\"] = \"Delhi\"\n",
    "df_hyderabad[\"metropolitan_area\"] = \"Hyderabad\"\n",
    "df_kolkata[\"metropolitan_area\"] = \"Kolkata\"\n",
    "df_mumbai[\"metropolitan_area\"] = \"Mumbai\"\n",
    "ds = pd.concat([df_bangalore, df_chennai, df_delhi, df_hyderabad, df_kolkata, df_mumbai], ignore_index=True, axis=0)\n",
    "print(ds.shape)"
   ]
  },
  {
   "cell_type": "markdown",
   "id": "e31930d2",
   "metadata": {},
   "source": [
    "# Data Preprocessing"
   ]
  },
  {
   "cell_type": "markdown",
   "id": "87bcd223",
   "metadata": {},
   "source": [
    "## Data Cleaning"
   ]
  },
  {
   "cell_type": "markdown",
   "id": "a0ab69cd-af13-4cc8-b8db-31cabe4538c6",
   "metadata": {},
   "source": [
    "### Data inspection and exploration"
   ]
  },
  {
   "cell_type": "code",
   "execution_count": 2,
   "id": "786a5d57-ce54-4b3f-8e4f-fc9cb732bef1",
   "metadata": {},
   "outputs": [
    {
     "data": {
      "text/plain": [
       "Index(['Price', 'Area', 'Location', 'No. of Bedrooms', 'Resale',\n",
       "       'MaintenanceStaff', 'Gymnasium', 'SwimmingPool', 'LandscapedGardens',\n",
       "       'JoggingTrack', 'RainWaterHarvesting', 'IndoorGames', 'ShoppingMall',\n",
       "       'Intercom', 'SportsFacility', 'ATM', 'ClubHouse', 'School',\n",
       "       '24X7Security', 'PowerBackup', 'CarParking', 'StaffQuarter',\n",
       "       'Cafeteria', 'MultipurposeRoom', 'Hospital', 'WashingMachine',\n",
       "       'Gasconnection', 'AC', 'Wifi', 'Children'splayarea', 'LiftAvailable',\n",
       "       'BED', 'VaastuCompliant', 'Microwave', 'GolfCourse', 'TV',\n",
       "       'DiningTable', 'Sofa', 'Wardrobe', 'Refrigerator', 'metropolitan_area'],\n",
       "      dtype='object')"
      ]
     },
     "execution_count": 2,
     "metadata": {},
     "output_type": "execute_result"
    }
   ],
   "source": [
    "ds.columns"
   ]
  },
  {
   "cell_type": "code",
   "execution_count": 3,
   "id": "94651840-c173-4db4-9437-4984cb0e1eaa",
   "metadata": {},
   "outputs": [
    {
     "data": {
      "text/html": [
       "<div>\n",
       "<style scoped>\n",
       "    .dataframe tbody tr th:only-of-type {\n",
       "        vertical-align: middle;\n",
       "    }\n",
       "\n",
       "    .dataframe tbody tr th {\n",
       "        vertical-align: top;\n",
       "    }\n",
       "\n",
       "    .dataframe thead th {\n",
       "        text-align: right;\n",
       "    }\n",
       "</style>\n",
       "<table border=\"1\" class=\"dataframe\">\n",
       "  <thead>\n",
       "    <tr style=\"text-align: right;\">\n",
       "      <th></th>\n",
       "      <th>Price</th>\n",
       "      <th>Area</th>\n",
       "      <th>No. of Bedrooms</th>\n",
       "    </tr>\n",
       "  </thead>\n",
       "  <tbody>\n",
       "    <tr>\n",
       "      <th>count</th>\n",
       "      <td>3.296300e+04</td>\n",
       "      <td>32955.000000</td>\n",
       "      <td>32956.000000</td>\n",
       "    </tr>\n",
       "    <tr>\n",
       "      <th>mean</th>\n",
       "      <td>1.168672e+07</td>\n",
       "      <td>1293.376149</td>\n",
       "      <td>2.411791</td>\n",
       "    </tr>\n",
       "    <tr>\n",
       "      <th>std</th>\n",
       "      <td>2.307368e+07</td>\n",
       "      <td>763.781984</td>\n",
       "      <td>0.812820</td>\n",
       "    </tr>\n",
       "    <tr>\n",
       "      <th>min</th>\n",
       "      <td>2.000000e+06</td>\n",
       "      <td>200.000000</td>\n",
       "      <td>1.000000</td>\n",
       "    </tr>\n",
       "    <tr>\n",
       "      <th>25%</th>\n",
       "      <td>4.071500e+06</td>\n",
       "      <td>853.000000</td>\n",
       "      <td>2.000000</td>\n",
       "    </tr>\n",
       "    <tr>\n",
       "      <th>50%</th>\n",
       "      <td>6.711000e+06</td>\n",
       "      <td>1125.000000</td>\n",
       "      <td>2.000000</td>\n",
       "    </tr>\n",
       "    <tr>\n",
       "      <th>75%</th>\n",
       "      <td>1.200000e+07</td>\n",
       "      <td>1500.000000</td>\n",
       "      <td>3.000000</td>\n",
       "    </tr>\n",
       "    <tr>\n",
       "      <th>max</th>\n",
       "      <td>8.546000e+08</td>\n",
       "      <td>16000.000000</td>\n",
       "      <td>9.000000</td>\n",
       "    </tr>\n",
       "  </tbody>\n",
       "</table>\n",
       "</div>"
      ],
      "text/plain": [
       "              Price          Area  No. of Bedrooms\n",
       "count  3.296300e+04  32955.000000     32956.000000\n",
       "mean   1.168672e+07   1293.376149         2.411791\n",
       "std    2.307368e+07    763.781984         0.812820\n",
       "min    2.000000e+06    200.000000         1.000000\n",
       "25%    4.071500e+06    853.000000         2.000000\n",
       "50%    6.711000e+06   1125.000000         2.000000\n",
       "75%    1.200000e+07   1500.000000         3.000000\n",
       "max    8.546000e+08  16000.000000         9.000000"
      ]
     },
     "execution_count": 3,
     "metadata": {},
     "output_type": "execute_result"
    }
   ],
   "source": [
    "ds[[\"Price\", \"Area\", \"No. of Bedrooms\"]].describe()"
   ]
  },
  {
   "cell_type": "markdown",
   "id": "1e5c6c63",
   "metadata": {},
   "source": [
    "### Handling missing data"
   ]
  },
  {
   "cell_type": "code",
   "execution_count": 4,
   "id": "85a7a831-3e1a-4ce2-bfd9-8a6cf2aa4b54",
   "metadata": {},
   "outputs": [],
   "source": [
    "ame = [\"MaintenanceStaff\", \"Gymnasium\", \"SwimmingPool\", \"LandscapedGardens\", \"JoggingTrack\", \"RainWaterHarvesting\",\n",
    "      \"IndoorGames\", \"ShoppingMall\", \"Intercom\", \"SportsFacility\", \"ATM\", \"ClubHouse\", \"\", \"\"]"
   ]
  },
  {
   "cell_type": "code",
   "execution_count": 5,
   "id": "36d41895-6595-4bfc-bb8e-55653179d13f",
   "metadata": {},
   "outputs": [
    {
     "name": "stdout",
     "output_type": "stream",
     "text": [
      "For col MaintenanceStaff, percentage of missing val = 69.38082092042593%\n",
      "For col Gymnasium, percentage of missing val = 69.38082092042593%\n",
      "For col SwimmingPool, percentage of missing val = 69.38082092042593%\n",
      "For col LandscapedGardens, percentage of missing val = 69.38082092042593%\n",
      "For col JoggingTrack, percentage of missing val = 69.38082092042593%\n",
      "For col RainWaterHarvesting, percentage of missing val = 69.38082092042593%\n",
      "For col IndoorGames, percentage of missing val = 69.38082092042593%\n",
      "For col ShoppingMall, percentage of missing val = 69.38082092042593%\n",
      "For col Intercom, percentage of missing val = 69.38082092042593%\n",
      "For col SportsFacility, percentage of missing val = 69.38082092042593%\n",
      "For col ATM, percentage of missing val = 69.38082092042593%\n",
      "For col ClubHouse, percentage of missing val = 69.38082092042593%\n",
      "For col School, percentage of missing val = 69.38082092042593%\n",
      "For col 24X7Security, percentage of missing val = 69.38082092042593%\n",
      "For col PowerBackup, percentage of missing val = 69.38082092042593%\n",
      "For col CarParking, percentage of missing val = 69.38082092042593%\n",
      "For col StaffQuarter, percentage of missing val = 69.38082092042593%\n",
      "For col Cafeteria, percentage of missing val = 69.38082092042593%\n",
      "For col MultipurposeRoom, percentage of missing val = 69.38082092042593%\n",
      "For col Hospital, percentage of missing val = 69.38082092042593%\n",
      "For col WashingMachine, percentage of missing val = 69.38082092042593%\n",
      "For col Gasconnection, percentage of missing val = 69.38082092042593%\n",
      "For col AC, percentage of missing val = 69.38082092042593%\n",
      "For col Wifi, percentage of missing val = 69.38082092042593%\n",
      "For col Children'splayarea, percentage of missing val = 69.38082092042593%\n",
      "For col LiftAvailable, percentage of missing val = 69.38082092042593%\n",
      "For col BED, percentage of missing val = 69.38082092042593%\n",
      "For col VaastuCompliant, percentage of missing val = 69.38082092042593%\n",
      "For col Microwave, percentage of missing val = 69.38082092042593%\n",
      "For col GolfCourse, percentage of missing val = 69.38082092042593%\n",
      "For col TV, percentage of missing val = 69.38082092042593%\n",
      "For col DiningTable, percentage of missing val = 69.38082092042593%\n",
      "For col Sofa, percentage of missing val = 69.38082092042593%\n",
      "For col Wardrobe, percentage of missing val = 69.38082092042593%\n",
      "For col Refrigerator, percentage of missing val = 69.38082092042593%\n"
     ]
    }
   ],
   "source": [
    "from numpy import nan\n",
    "# replacing 9 by NaN\n",
    "for i in range(5, 40):\n",
    "    ds.iloc[:, i].replace(9, nan, inplace=True)\n",
    "for i in range(5, 40):\n",
    "    print(f\"For col {ds.columns[i]}, percentage of missing val = \" + str((ds.iloc[:, i].isnull().sum() * 100)/ds.shape[0]) + \"%\")"
   ]
  },
  {
   "cell_type": "code",
   "execution_count": 6,
   "id": "ea38601e-0a11-408c-a03b-aaa0a45f52a1",
   "metadata": {},
   "outputs": [
    {
     "name": "stdout",
     "output_type": "stream",
     "text": [
      "For col Price, percentage of missing val = 0.0%\n",
      "For col Area, percentage of missing val = 0.024269635652094772%\n",
      "For col Location, percentage of missing val = 0.02730334010860662%\n",
      "For col No. of Bedrooms, percentage of missing val = 0.021235931195582928%\n",
      "For col Resale, percentage of missing val = 0.0%\n"
     ]
    }
   ],
   "source": [
    "print(f\"For col Price, percentage of missing val = \" + str((ds[\"Price\"].isnull().sum() * 100)/ds.shape[0]) + \"%\")\n",
    "print(f\"For col Area, percentage of missing val = \" + str((ds[\"Area\"].isnull().sum() * 100)/ds.shape[0]) + \"%\")\n",
    "print(f\"For col Location, percentage of missing val = \" + str((ds[\"Location\"].isnull().sum() * 100)/ds.shape[0]) + \"%\")\n",
    "print(f\"For col No. of Bedrooms, percentage of missing val = \" + str((ds[\"No. of Bedrooms\"].isnull().sum() * 100)/ds.shape[0]) + \"%\")\n",
    "print(f\"For col Resale, percentage of missing val = \" + str((ds[\"Resale\"].isnull().sum() * 100)/ds.shape[0]) + \"%\")"
   ]
  },
  {
   "cell_type": "code",
   "execution_count": 7,
   "id": "0cb595d0-a4c4-4ea7-ba7f-bbc914746978",
   "metadata": {},
   "outputs": [
    {
     "name": "stdout",
     "output_type": "stream",
     "text": [
      "Coorelation between Price and Area = 0.2950602112750889\n",
      "Skewness of `Area` =  3.500483434418256\n",
      "Median area =  1125.0\n"
     ]
    },
    {
     "data": {
      "image/png": "[encoded data removed]",
      "text/plain": [
       "<Figure size 640x480 with 1 Axes>"
      ]
     },
     "metadata": {},
     "output_type": "display_data"
    }
   ],
   "source": [
    "print(\"Coorelation between Price and Area = \" + str(ds[\"Price\"].corr(ds[\"Area\"])))\n",
    "ds[\"Area\"].hist(bins=20)\n",
    "print(\"Skewness of `Area` = \", ds[\"Area\"].skew())\n",
    "# median imputation\n",
    "median_area = ds['Area'].median()\n",
    "ds['Area'].fillna(median_area, inplace=True)\n",
    "print(\"Median area = \", median_area)"
   ]
  },
  {
   "cell_type": "code",
   "execution_count": 8,
   "id": "170622fd-9890-4b93-8f0e-2a4ec6bd855c",
   "metadata": {},
   "outputs": [
    {
     "name": "stderr",
     "output_type": "stream",
     "text": [
      "C:\\Users\\User\\AppData\\Local\\Temp\\ipykernel_3932\\972570031.py:9: SettingWithCopyWarning: \n",
      "A value is trying to be set on a copy of a slice from a DataFrame.\n",
      "Try using .loc[row_indexer,col_indexer] = value instead\n",
      "\n",
      "See the caveats in the documentation: https://pandas.pydata.org/pandas-docs/stable/user_guide/indexing.html#returning-a-view-versus-a-copy\n",
      "  train_data['Location'] = label_encoder.fit_transform(train_data['Location'])\n"
     ]
    },
    {
     "name": "stdout",
     "output_type": "stream",
     "text": [
      "After imputation, For col Location, percentage of missing val = 0.0%\n"
     ]
    }
   ],
   "source": [
    "from sklearn.tree import DecisionTreeClassifier\n",
    "from sklearn.preprocessing import LabelEncoder\n",
    "\n",
    "# selecting relevant features\n",
    "tree_ds = ds[[\"Price\", \"Location\", \"No. of Bedrooms\"]]\n",
    "# Assigning unique label to col `Location` of tree_ds\n",
    "label_encoder = LabelEncoder()\n",
    "train_data = tree_ds.dropna()\n",
    "train_data['Location'] = label_encoder.fit_transform(train_data['Location'])\n",
    "# print(\"sum of NA in `Location` = \", ds[\"Location\"].isnull().sum())\n",
    "# print(\"sum of NA in `Location` in tree_ds = \", tree_ds[\"Location\"].isnull().sum())\n",
    "# print(\"sum of NA in `Location` in tree_ds = \", tree_ds[\"Location\"].isnull().sum())\n",
    "missing_data_location = tree_ds[tree_ds[\"Location\"].isnull()]\n",
    "\n",
    "# Train a Decision Tree Classifier for imputing `Location`\n",
    "model_loc = DecisionTreeClassifier()\n",
    "model_loc.fit(train_data[['Price', 'No. of Bedrooms']], train_data['Location'])\n",
    "# Impute the `Location` by predicting the missing values\n",
    "predicted_locs = model_loc.predict(missing_data_location[['Price', 'No. of Bedrooms']])\n",
    "# `inverse_transform()` is to convert the numeric labels into original categories\n",
    "ds.loc[ds['Location'].isnull(), 'Location'] = label_encoder.inverse_transform(predicted_locs)\n",
    "# Check after imputation\n",
    "print(f\"After imputation, For col Location, percentage of missing val = \" + str((ds[\"Location\"].isnull().sum() * 100)/ds.shape[0]) + \"%\")"
   ]
  },
  {
   "cell_type": "code",
   "execution_count": 9,
   "id": "37b51ab4-028c-4ea6-9cdd-55873dfddfd9",
   "metadata": {},
   "outputs": [
    {
     "name": "stdout",
     "output_type": "stream",
     "text": [
      "(32963, 41)\n",
      "(32956, 41)\n"
     ]
    }
   ],
   "source": [
    "# dropping records with NaN in column `No. of Bedrooms`\n",
    "print(ds.shape)\n",
    "ds.dropna(subset=['No. of Bedrooms'], inplace=True)\n",
    "print(ds.shape)"
   ]
  },
  {
   "cell_type": "markdown",
   "id": "68dfcdc9",
   "metadata": {},
   "source": [
    "### Handling outliers"
   ]
  },
  {
   "cell_type": "markdown",
   "id": "62bb6e41-f432-40b2-8696-4560871fe77b",
   "metadata": {},
   "source": [
    "Ways of detecting outliers:\n",
    "- Manual inspection, such as someone is recorded as 1001 years old\n",
    "- Boxplot\n",
    "- Regression line to visualise it, then catch the outliers manually\n"
   ]
  },
  {
   "cell_type": "markdown",
   "id": "0a18533a",
   "metadata": {},
   "source": [
    "### Incomplete data"
   ]
  },
  {
   "cell_type": "markdown",
   "id": "1ff75aa3",
   "metadata": {},
   "source": [
    "### Inconsistent data"
   ]
  },
  {
   "cell_type": "markdown",
   "id": "75812e7a",
   "metadata": {},
   "source": [
    "### Noisy data"
   ]
  },
  {
   "cell_type": "markdown",
   "id": "0b2a2e0e",
   "metadata": {},
   "source": [
    "## Feature engineering"
   ]
  },
  {
   "cell_type": "markdown",
   "id": "965a20e6",
   "metadata": {},
   "source": [
    "Maybe transform the location into some values, and also transform the metro_area into values. Then combine the tables tgt by adding one more column called `metro_area`."
   ]
  },
  {
   "cell_type": "markdown",
   "id": "f5ff72c5-6625-4b80-bb14-7367ad0180d4",
   "metadata": {},
   "source": [
    "Do price/area."
   ]
  },
  {
   "cell_type": "markdown",
   "id": "840d964c",
   "metadata": {},
   "source": [
    "# EDA"
   ]
  },
  {
   "cell_type": "markdown",
   "id": "fbef4459-57d5-42c2-ab83-999e9a00dd55",
   "metadata": {},
   "source": [
    "EDA must solve the objectives proposed b4"
   ]
  },
  {
   "cell_type": "markdown",
   "id": "a85c7c20",
   "metadata": {},
   "source": [
    "## Single Variate"
   ]
  },
  {
   "cell_type": "code",
   "execution_count": null,
   "id": "0d1b4c1a",
   "metadata": {},
   "outputs": [],
   "source": []
  },
  {
   "cell_type": "markdown",
   "id": "fb6bafc0",
   "metadata": {},
   "source": [
    "## Multivariate"
   ]
  },
  {
   "cell_type": "code",
   "execution_count": null,
   "id": "2c83d77d",
   "metadata": {},
   "outputs": [],
   "source": []
  }
 ],
 "metadata": {
  "kernelspec": {
   "display_name": "Python 3 (ipykernel)",
   "language": "python",
   "name": "python3"
  },
  "language_info": {
   "codemirror_mode": {
    "name": "ipython",
    "version": 3
   },
   "file_extension": ".py",
   "mimetype": "text/x-python",
   "name": "python",
   "nbconvert_exporter": "python",
   "pygments_lexer": "ipython3",
   "version": "3.9.19"
  }
 },
 "nbformat": 4,
 "nbformat_minor": 5
}
